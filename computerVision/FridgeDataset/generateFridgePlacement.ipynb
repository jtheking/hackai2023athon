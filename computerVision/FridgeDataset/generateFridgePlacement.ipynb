{
 "cells": [
  {
   "cell_type": "code",
   "execution_count": 4,
   "outputs": [
    {
     "name": "stdout",
     "output_type": "stream",
     "text": [
      "Requirement already satisfied: opencv-python in c:\\users\\danng\\anaconda3\\envs\\hackai2023athon\\lib\\site-packages (4.7.0.72)\n",
      "Requirement already satisfied: numpy>=1.17.0 in c:\\users\\danng\\anaconda3\\envs\\hackai2023athon\\lib\\site-packages (from opencv-python) (1.24.2)\n",
      "Collecting pillow\n",
      "  Downloading Pillow-9.5.0-cp38-cp38-win_amd64.whl (2.5 MB)\n",
      "     ---------------------------------------- 0.0/2.5 MB ? eta -:--:--\n",
      "     --------- ------------------------------ 0.6/2.5 MB 12.6 MB/s eta 0:00:01\n",
      "     ------------------ --------------------- 1.2/2.5 MB 12.5 MB/s eta 0:00:01\n",
      "     ------------------------------ --------- 2.0/2.5 MB 13.9 MB/s eta 0:00:01\n",
      "     ---------------------------------------  2.5/2.5 MB 14.6 MB/s eta 0:00:01\n",
      "     ---------------------------------------  2.5/2.5 MB 14.6 MB/s eta 0:00:01\n",
      "     ---------------------------------------  2.5/2.5 MB 14.6 MB/s eta 0:00:01\n",
      "     ---------------------------------------  2.5/2.5 MB 14.6 MB/s eta 0:00:01\n",
      "     ---------------------------------------- 2.5/2.5 MB 7.0 MB/s eta 0:00:00\n",
      "Installing collected packages: pillow\n",
      "Successfully installed pillow-9.5.0\n"
     ]
    }
   ],
   "source": [
    "!pip install opencv-python\n",
    "!pip install pillow"
   ],
   "metadata": {
    "collapsed": false
   }
  },
  {
   "cell_type": "code",
   "execution_count": 16,
   "outputs": [],
   "source": [
    "from PIL import Image\n",
    "import os\n",
    "import random\n",
    "\n",
    "# Set the path to your object images\n",
    "objects_path = \"individualItem\"\n",
    "\n",
    "# Load the object images\n",
    "object_files = os.listdir(objects_path)\n",
    "objects = [Image.open(os.path.join(objects_path, f)).convert(\"RGBA\") for f in object_files]\n",
    "\n",
    "# Set the path to your background image\n",
    "background_path = \"00-EmptyFridge.png\"\n",
    "\n",
    "# Load the background image\n",
    "background = Image.open(background_path).convert(\"RGBA\")\n",
    "\n",
    "# Set the maximum number of objects to place on the background\n",
    "max_objects = 10\n",
    "\n",
    "# Loop through each object image and randomly place it on the background\n",
    "placed_objects = []\n",
    "def placeFridgeItems(path, a):\n",
    "    for i in range(max_objects):\n",
    "        # Choose a random object image that hasn't already been placed\n",
    "        available_objects = [o for o in objects if o not in placed_objects]\n",
    "        if not available_objects:\n",
    "            break  # if all objects have been placed, stop placing more objects\n",
    "        object_img = random.choice(available_objects)\n",
    "\n",
    "        # Get the dimensions of the object image\n",
    "        object_width, object_height = object_img.size\n",
    "\n",
    "        # Choose a random location on the background to place the object\n",
    "        while True:\n",
    "            x = random.randint(0, background.width - object_width)\n",
    "            y = random.randint(0, background.height - object_height)\n",
    "\n",
    "            # Check if the object overlaps with any previously placed object\n",
    "            object_box = (x, y, x+object_width, y+object_height)\n",
    "            overlap = False\n",
    "            for placed_obj_box in map(lambda obj: obj.getbbox(), placed_objects):\n",
    "                if placed_obj_box and Image.new(\"RGBA\", object_img.size).crop(placed_obj_box).getbbox():\n",
    "                    if object_box[0] < placed_obj_box[2] and object_box[2] > placed_obj_box[0] \\\n",
    "                            and object_box[1] < placed_obj_box[3] and object_box[3] > placed_obj_box[1]:\n",
    "                        overlap = True\n",
    "                        break\n",
    "            if not overlap:\n",
    "                break\n",
    "\n",
    "        # Paste the object on the background\n",
    "        background.alpha_composite(object_img, (x, y))\n",
    "\n",
    "        # Add the placed object to the list of placed objects\n",
    "        placed_objects.append(object_img)\n",
    "\n",
    "    # Save the modified image in sample fridge, make sure to change the name if it already exists\n",
    "    background.save(path + \"samplefridge\" + str(a) + \".png\")\n",
    "\n",
    "\n",
    "path = \"sampleFridge/\"\n",
    "#check if the name exists in the path\n",
    "for a in range(100):\n",
    "    placeFridgeItems(path, a)\n"
   ],
   "metadata": {
    "collapsed": false
   }
  },
  {
   "cell_type": "code",
   "execution_count": null,
   "outputs": [],
   "source": [],
   "metadata": {
    "collapsed": false
   }
  }
 ],
 "metadata": {
  "kernelspec": {
   "display_name": "Python 3",
   "language": "python",
   "name": "python3"
  },
  "language_info": {
   "codemirror_mode": {
    "name": "ipython",
    "version": 2
   },
   "file_extension": ".py",
   "mimetype": "text/x-python",
   "name": "python",
   "nbconvert_exporter": "python",
   "pygments_lexer": "ipython2",
   "version": "2.7.6"
  }
 },
 "nbformat": 4,
 "nbformat_minor": 0
}
